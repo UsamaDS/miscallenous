{
  "nbformat": 4,
  "nbformat_minor": 0,
  "metadata": {
    "colab": {
      "provenance": []
    },
    "kernelspec": {
      "name": "python3",
      "display_name": "Python 3"
    },
    "language_info": {
      "name": "python"
    }
  },
  "cells": [
    {
      "cell_type": "code",
      "execution_count": null,
      "metadata": {
        "colab": {
          "base_uri": "https://localhost:8080/"
        },
        "id": "Lnct1DoJPNA9",
        "outputId": "84bf66a6-e614-47a6-b19a-5e555176a160"
      },
      "outputs": [
        {
          "output_type": "stream",
          "name": "stdout",
          "text": [
            "Looking in indexes: https://pypi.org/simple, https://us-python.pkg.dev/colab-wheels/public/simple/\n",
            "Collecting python-docx\n",
            "  Downloading python-docx-0.8.11.tar.gz (5.6 MB)\n",
            "\u001b[2K     \u001b[90m━━━━━━━━━━━━━━━━━━━━━━━━━━━━━━━━━━━━━━━━\u001b[0m \u001b[32m5.6/5.6 MB\u001b[0m \u001b[31m30.5 MB/s\u001b[0m eta \u001b[36m0:00:00\u001b[0m\n",
            "\u001b[?25h  Preparing metadata (setup.py) ... \u001b[?25l\u001b[?25hdone\n",
            "Requirement already satisfied: lxml>=2.3.2 in /usr/local/lib/python3.9/dist-packages (from python-docx) (4.9.2)\n",
            "Building wheels for collected packages: python-docx\n",
            "  Building wheel for python-docx (setup.py) ... \u001b[?25l\u001b[?25hdone\n",
            "  Created wheel for python-docx: filename=python_docx-0.8.11-py3-none-any.whl size=184505 sha256=0ea7760d2a17f888b53568307ce0973581b0e7016de604426126c15af8d8d918\n",
            "  Stored in directory: /root/.cache/pip/wheels/83/8b/7c/09ae60c42c7ba4ed2dddaf2b8b9186cb105255856d6ed3dba5\n",
            "Successfully built python-docx\n",
            "Installing collected packages: python-docx\n",
            "Successfully installed python-docx-0.8.11\n"
          ]
        }
      ],
      "source": [
        "# !pip install googletrans==3.1.0a0\n",
        "# !pip install PyPDF2\n",
        "# !pip install reportlab\n",
        "# !pip install docx\n",
        "!pip install python-docx "
      ]
    },
    {
      "cell_type": "code",
      "source": [
        "import PyPDF2\n",
        "from googletrans import Translator\n",
        "from reportlab.lib.pagesizes import letter\n",
        "from reportlab.lib import colors\n",
        "from reportlab.lib.units import inch\n",
        "from reportlab.platypus import Table, TableStyle, SimpleDocTemplate\n",
        "\n",
        "# Open the PDF file in read-binary mode\n",
        "with open('/content/Name.pdf', 'rb') as pdf_file:\n",
        "    # Create a PDF reader object\n",
        "    pdf_reader = PyPDF2.PdfReader(pdf_file)\n",
        "\n",
        "    # Get the first page of the PDF\n",
        "    first_page = pdf_reader.pages[0]\n",
        "\n",
        "    # Extract the table data from the page\n",
        "    table_data = first_page.extract_text()\n",
        "\n",
        "    # Remove any newline characters from the table data\n",
        "    table_data = table_data.replace('\\n', '')\n",
        "\n",
        "    # Split the table data into rows and columns\n",
        "    rows = table_data.split('  ')\n",
        "\n",
        "    # Remove any empty rows or columns\n",
        "    rows = [row for row in rows if row]\n",
        "    columns = [column.split(' ') for column in rows if column]\n",
        "    print(columns)\n",
        "\n",
        "    # Translating the table data into Urdu\n",
        "    # translator = Translator(service_urls=['translate.google.com'])\n",
        "    # for i in range(len(columns)):\n",
        "    #     # for j in range(len(columns[i])):\n",
        "    #     translation = translator.translate(columns[i], src='en', dest='ur').text\n",
        "    #     columns[i] = translation\n",
        "\n",
        "    # Create a new PDF file for the translated table\n",
        "    doc = SimpleDocTemplate('table_urdu.pdf', pagesize=letter)\n",
        "    elements = []\n",
        "\n",
        "    # Create the table object with the translated data\n",
        "    table = Table(columns)\n",
        "\n",
        "    # Set the style of the table\n",
        "    style = TableStyle([\n",
        "        ('BACKGROUND', (0, 0), (-1, 0), colors.grey),\n",
        "        ('TEXTCOLOR', (0, 0), (-1, 0), colors.whitesmoke),\n",
        "        ('ALIGN', (0, 0), (-1, -1), 'CENTER'),\n",
        "        ('FONTNAME', (0, 0), (-1, 0), 'Helvetica-Bold'),\n",
        "        ('FONTSIZE', (0, 0), (-1, 0), 14),\n",
        "        ('BOTTOMPADDING', (0, 0), (-1, 0), 12),\n",
        "        ('BACKGROUND', (0, 1), (-1, -1), colors.beige),\n",
        "        ('TEXTCOLOR', (0, 1), (-1, -1), colors.black),\n",
        "        ('GRID', (0, 0), (-1, -1), 1, colors.black)\n",
        "    ])\n",
        "    table.setStyle(style)\n",
        "\n",
        "    # Add the table to the elements list and build the PDF file\n",
        "    elements.append(table)\n",
        "    doc.build(elements)\n"
      ],
      "metadata": {
        "colab": {
          "base_uri": "https://localhost:8080/"
        },
        "id": "J0l6AsFdPS7L",
        "outputId": "2892f88c-dbbe-43a1-82ca-d47dab1dc3fb"
      },
      "execution_count": null,
      "outputs": [
        {
          "output_type": "stream",
          "name": "stdout",
          "text": [
            "[['Name'], ['Designation'], ['Salary'], ['Expe', 'rience'], ['Qual', 'ification'], ['Usama'], ['Engineer'], ['1000'], ['Fresh'], ['Bachelor'], ['Ali', 'Engineer'], ['1000'], ['Fresh'], ['Bachelor'], ['Bilal'], ['Engineer'], ['1000'], ['Intermediate'], ['Bachelor'], ['Waqar'], ['Engineer'], ['1000'], ['Intermediate'], ['Bachelor'], ['', '']]\n"
          ]
        }
      ]
    },
    {
      "cell_type": "code",
      "source": [
        "import PyPDF2\n",
        "from googletrans import Translator\n",
        "from docx import Document\n",
        "from docx.shared import Inches\n",
        "\n",
        "# Open the PDF file in read-binary mode\n",
        "with open('/content/Name.pdf', 'rb') as pdf_file:\n",
        "    # Create a PDF reader object\n",
        "    pdf_reader = PyPDF2.PdfReader(pdf_file)\n",
        "\n",
        "    # Get the first page of the PDF\n",
        "    first_page = pdf_reader.pages[0]\n",
        "\n",
        "    # Extract the table data from the page\n",
        "    table_data = first_page.extract_text()\n",
        "\n",
        "    # Remove any newline characters from the table data\n",
        "    table_data = table_data.replace('\\n', '')\n",
        "\n",
        "    # Split the table data into rows and columns\n",
        "    rows = table_data.split('  ')\n",
        "\n",
        "    # Remove any empty rows or columns\n",
        "    rows = [row for row in rows if row]\n",
        "    columns = [column.split(' ') for column in rows if column]\n",
        "    print(columns)\n",
        "\n",
        "    # # Translating the table data into Urdu\n",
        "    # translator = Translator(service_urls=['translate.google.com'])\n",
        "    # for i in range(len(columns)):\n",
        "    #     for j in range(len(columns[i])):\n",
        "    #         translation = translator.translate(columns[i][j], src='en', dest='ur').text\n",
        "    #         columns[i][j] = translation\n",
        "\n",
        "    # Create a new Word document for the translated table\n",
        "    doc = Document()\n",
        "\n",
        "    # Create a table object with the translated data\n",
        "    table = doc.add_table(rows=len(columns), cols=len(columns[0]))\n",
        "\n",
        "    # Populate the table with the translated data\n",
        "    for i in range(len(columns)):\n",
        "        # for j in range(len(columns[i])):\n",
        "        cell = table.cell(i)\n",
        "        cell.text = columns[i]\n",
        "\n",
        "    # Save the Word document\n",
        "    doc.save('table_urdu.docx')\n"
      ],
      "metadata": {
        "colab": {
          "base_uri": "https://localhost:8080/",
          "height": 273
        },
        "id": "_0Wco8kRPa55",
        "outputId": "2f002414-3b06-4e96-9ce2-e85806da3b19"
      },
      "execution_count": null,
      "outputs": [
        {
          "output_type": "stream",
          "name": "stdout",
          "text": [
            "[['Name'], ['Designation'], ['Salary'], ['Expe', 'rience'], ['Qual', 'ification'], ['Usama'], ['Engineer'], ['1000'], ['Fresh'], ['Bachelor'], ['Ali', 'Engineer'], ['1000'], ['Fresh'], ['Bachelor'], ['Bilal'], ['Engineer'], ['1000'], ['Intermediate'], ['Bachelor'], ['Waqar'], ['Engineer'], ['1000'], ['Intermediate'], ['Bachelor'], ['', '']]\n"
          ]
        },
        {
          "output_type": "error",
          "ename": "TypeError",
          "evalue": "ignored",
          "traceback": [
            "\u001b[0;31m---------------------------------------------------------------------------\u001b[0m",
            "\u001b[0;31mTypeError\u001b[0m                                 Traceback (most recent call last)",
            "\u001b[0;32m<ipython-input-8-a02204760a43>\u001b[0m in \u001b[0;36m<module>\u001b[0;34m\u001b[0m\n\u001b[1;32m     42\u001b[0m     \u001b[0;32mfor\u001b[0m \u001b[0mi\u001b[0m \u001b[0;32min\u001b[0m \u001b[0mrange\u001b[0m\u001b[0;34m(\u001b[0m\u001b[0mlen\u001b[0m\u001b[0;34m(\u001b[0m\u001b[0mcolumns\u001b[0m\u001b[0;34m)\u001b[0m\u001b[0;34m)\u001b[0m\u001b[0;34m:\u001b[0m\u001b[0;34m\u001b[0m\u001b[0;34m\u001b[0m\u001b[0m\n\u001b[1;32m     43\u001b[0m         \u001b[0;31m# for j in range(len(columns[i])):\u001b[0m\u001b[0;34m\u001b[0m\u001b[0;34m\u001b[0m\u001b[0m\n\u001b[0;32m---> 44\u001b[0;31m         \u001b[0mcell\u001b[0m \u001b[0;34m=\u001b[0m \u001b[0mtable\u001b[0m\u001b[0;34m.\u001b[0m\u001b[0mcell\u001b[0m\u001b[0;34m(\u001b[0m\u001b[0mi\u001b[0m\u001b[0;34m)\u001b[0m\u001b[0;34m\u001b[0m\u001b[0;34m\u001b[0m\u001b[0m\n\u001b[0m\u001b[1;32m     45\u001b[0m         \u001b[0mcell\u001b[0m\u001b[0;34m.\u001b[0m\u001b[0mtext\u001b[0m \u001b[0;34m=\u001b[0m \u001b[0mcolumns\u001b[0m\u001b[0;34m[\u001b[0m\u001b[0mi\u001b[0m\u001b[0;34m]\u001b[0m\u001b[0;34m\u001b[0m\u001b[0;34m\u001b[0m\u001b[0m\n\u001b[1;32m     46\u001b[0m \u001b[0;34m\u001b[0m\u001b[0m\n",
            "\u001b[0;31mTypeError\u001b[0m: cell() missing 1 required positional argument: 'col_idx'"
          ]
        }
      ]
    },
    {
      "cell_type": "code",
      "source": [
        "# !pip install PyPDF2\n",
        "# !pip install python-docx\n",
        "!pip install pdfplumber"
      ],
      "metadata": {
        "colab": {
          "base_uri": "https://localhost:8080/",
          "height": 503
        },
        "id": "XNQEmd3jehUX",
        "outputId": "f279975c-3efd-48f5-e998-a21af785c2a5"
      },
      "execution_count": 15,
      "outputs": [
        {
          "output_type": "stream",
          "name": "stdout",
          "text": [
            "Looking in indexes: https://pypi.org/simple, https://us-python.pkg.dev/colab-wheels/public/simple/\n",
            "Collecting pdfplumber\n",
            "  Downloading pdfplumber-0.8.0-py3-none-any.whl (43 kB)\n",
            "\u001b[2K     \u001b[90m━━━━━━━━━━━━━━━━━━━━━━━━━━━━━━━━━━━━━━━━\u001b[0m \u001b[32m43.7/43.7 KB\u001b[0m \u001b[31m2.1 MB/s\u001b[0m eta \u001b[36m0:00:00\u001b[0m\n",
            "\u001b[?25hCollecting Pillow>=9.1\n",
            "  Downloading Pillow-9.4.0-cp39-cp39-manylinux_2_28_x86_64.whl (3.4 MB)\n",
            "\u001b[2K     \u001b[90m━━━━━━━━━━━━━━━━━━━━━━━━━━━━━━━━━━━━━━━━\u001b[0m \u001b[32m3.4/3.4 MB\u001b[0m \u001b[31m38.7 MB/s\u001b[0m eta \u001b[36m0:00:00\u001b[0m\n",
            "\u001b[?25hCollecting pdfminer.six==20221105\n",
            "  Downloading pdfminer.six-20221105-py3-none-any.whl (5.6 MB)\n",
            "\u001b[2K     \u001b[90m━━━━━━━━━━━━━━━━━━━━━━━━━━━━━━━━━━━━━━━━\u001b[0m \u001b[32m5.6/5.6 MB\u001b[0m \u001b[31m77.3 MB/s\u001b[0m eta \u001b[36m0:00:00\u001b[0m\n",
            "\u001b[?25hCollecting Wand>=0.6.10\n",
            "  Downloading Wand-0.6.11-py2.py3-none-any.whl (143 kB)\n",
            "\u001b[2K     \u001b[90m━━━━━━━━━━━━━━━━━━━━━━━━━━━━━━━━━━━━━━\u001b[0m \u001b[32m143.6/143.6 KB\u001b[0m \u001b[31m16.4 MB/s\u001b[0m eta \u001b[36m0:00:00\u001b[0m\n",
            "\u001b[?25hRequirement already satisfied: cryptography>=36.0.0 in /usr/local/lib/python3.9/dist-packages (from pdfminer.six==20221105->pdfplumber) (39.0.2)\n",
            "Requirement already satisfied: charset-normalizer>=2.0.0 in /usr/local/lib/python3.9/dist-packages (from pdfminer.six==20221105->pdfplumber) (2.0.12)\n",
            "Requirement already satisfied: cffi>=1.12 in /usr/local/lib/python3.9/dist-packages (from cryptography>=36.0.0->pdfminer.six==20221105->pdfplumber) (1.15.1)\n",
            "Requirement already satisfied: pycparser in /usr/local/lib/python3.9/dist-packages (from cffi>=1.12->cryptography>=36.0.0->pdfminer.six==20221105->pdfplumber) (2.21)\n",
            "Installing collected packages: Wand, Pillow, pdfminer.six, pdfplumber\n",
            "  Attempting uninstall: Pillow\n",
            "    Found existing installation: Pillow 8.4.0\n",
            "    Uninstalling Pillow-8.4.0:\n",
            "      Successfully uninstalled Pillow-8.4.0\n",
            "Successfully installed Pillow-9.4.0 Wand-0.6.11 pdfminer.six-20221105 pdfplumber-0.8.0\n"
          ]
        },
        {
          "output_type": "display_data",
          "data": {
            "application/vnd.colab-display-data+json": {
              "pip_warning": {
                "packages": [
                  "PIL"
                ]
              }
            }
          },
          "metadata": {}
        }
      ]
    },
    {
      "cell_type": "code",
      "source": [
        "import PyPDF2\n",
        "import docx\n",
        "from docx import Document\n",
        "# Open the PDF file containing the table\n",
        "pdf_file = open('/content/Name.pdf', 'rb')\n",
        "pdf_reader = PyPDF2.PdfReader(pdf_file)\n",
        "\n",
        "# Get the first page of the PDF file\n",
        "pdf_page = pdf_reader.pages[0]\n",
        "\n",
        "# Get the coordinates of the table on the page\n",
        "table_coords = None\n",
        "# Check if the page contains annotations\n",
        "if '/Annots' not in pdf_page:\n",
        "    pass#'No annotations found on page')\n",
        "\n",
        "# Get the coordinates of the table on the page\n",
        "table_coords = None\n",
        "# for obj in pdf_page['/Annots']:\n",
        "#     if obj.getObject()['/Subtype'] == '/Widget':\n",
        "#         if obj.getObject()['/Parent']['/Resources']['/ProcSet'] == ['/PDF', '/Text']:\n",
        "#             if obj.getObject()['/Parent']['/Contents'].startswith('Table'):\n",
        "#                 table_coords = obj.getObject()['/Rect']\n",
        "#                 break\n",
        "\n",
        "# Get the table data from the PDF page\n",
        "table_data = []\n",
        "for line in pdf_page.extract_text().split('\\n'):\n",
        "    if line.startswith('Table'):\n",
        "        continue\n",
        "    if not line:\n",
        "        continue\n",
        "    table_data.append(line.split())\n",
        "\n",
        "# Open the Word document and get the table at the same location\n",
        "doc = Document()\n",
        "table = None\n",
        "for i, p in enumerate(doc.paragraphs):\n",
        "    for j, t in enumerate(p.tables):\n",
        "        if t._element.xpath('.//w:tc/w:p/w:r/w:t')[0].text.strip() == 'Table':\n",
        "            if i == 0 and j == 0:\n",
        "                table = t\n",
        "                break\n",
        "\n",
        "# Write the table data back to the Word document in the same location\n",
        "# Write the table data back to the Word document in the same location\n",
        "if table is not None:\n",
        "    for i, row in enumerate(table_data):\n",
        "        for j, cell in enumerate(row):\n",
        "            table.cell(i, j).text = cell\n",
        "else:\n",
        "    raise Exception('Table not found in Word document')\n",
        "\n",
        "# Save the Word document\n",
        "doc.save('document.docx')"
      ],
      "metadata": {
        "id": "1sYdwvWkRVD6",
        "colab": {
          "base_uri": "https://localhost:8080/",
          "height": 236
        },
        "outputId": "08fa82d8-ddd9-4348-871f-73552e528acb"
      },
      "execution_count": 14,
      "outputs": [
        {
          "output_type": "error",
          "ename": "Exception",
          "evalue": "ignored",
          "traceback": [
            "\u001b[0;31m---------------------------------------------------------------------------\u001b[0m",
            "\u001b[0;31mException\u001b[0m                                 Traceback (most recent call last)",
            "\u001b[0;32m<ipython-input-14-0f905cc2e865>\u001b[0m in \u001b[0;36m<module>\u001b[0;34m\u001b[0m\n\u001b[1;32m     50\u001b[0m             \u001b[0mtable\u001b[0m\u001b[0;34m.\u001b[0m\u001b[0mcell\u001b[0m\u001b[0;34m(\u001b[0m\u001b[0mi\u001b[0m\u001b[0;34m,\u001b[0m \u001b[0mj\u001b[0m\u001b[0;34m)\u001b[0m\u001b[0;34m.\u001b[0m\u001b[0mtext\u001b[0m \u001b[0;34m=\u001b[0m \u001b[0mcell\u001b[0m\u001b[0;34m\u001b[0m\u001b[0;34m\u001b[0m\u001b[0m\n\u001b[1;32m     51\u001b[0m \u001b[0;32melse\u001b[0m\u001b[0;34m:\u001b[0m\u001b[0;34m\u001b[0m\u001b[0;34m\u001b[0m\u001b[0m\n\u001b[0;32m---> 52\u001b[0;31m     \u001b[0;32mraise\u001b[0m \u001b[0mException\u001b[0m\u001b[0;34m(\u001b[0m\u001b[0;34m'Table not found in Word document'\u001b[0m\u001b[0;34m)\u001b[0m\u001b[0;34m\u001b[0m\u001b[0;34m\u001b[0m\u001b[0m\n\u001b[0m\u001b[1;32m     53\u001b[0m \u001b[0;34m\u001b[0m\u001b[0m\n\u001b[1;32m     54\u001b[0m \u001b[0;31m# Save the Word document\u001b[0m\u001b[0;34m\u001b[0m\u001b[0;34m\u001b[0m\u001b[0m\n",
            "\u001b[0;31mException\u001b[0m: Table not found in Word document"
          ]
        }
      ]
    },
    {
      "cell_type": "code",
      "source": [
        "import pdfplumber\n",
        "from docx import Document\n",
        "from docx.shared import Cm\n",
        "\n",
        "# Open the PDF file and extract the table\n",
        "with pdfplumber.open('/content/Name.pdf') as pdf:\n",
        "    first_page = pdf.pages[0]\n",
        "    table = first_page.extract_tables()[0]\n",
        "\n",
        "# Create a new Word document and add a table to it\n",
        "document = Document()\n",
        "table_rows = len(table)\n",
        "table_cols = len(table[0])\n",
        "table = document.add_table(rows=table_rows, cols=table_cols, style='Table Grid')\n",
        "table.autofit = False\n",
        "\n",
        "# # Set the column widths to match the PDF table\n",
        "# for i, column in enumerate(table.columns):\n",
        "#     max_width = max([len(str(row[i])) for row in table])\n",
        "#     column.width = Cm(max_width)\n",
        "\n",
        "# # Iterate over the rows and columns of the Word table\n",
        "# for i, row in enumerate(table.rows):\n",
        "#     for j, cell in enumerate(row.cells):\n",
        "#         cell.text = str(table_data[i][j])\n",
        "\n",
        "# # Write the PDF table data to the Word table\n",
        "# for i, row in enumerate(table.rows):\n",
        "#     for j, cell in enumerate(row.cells):\n",
        "#         cell.text = str(table[i][j])\n",
        "\n",
        "# # Save the Word document\n",
        "# document.save('output.docx')\n"
      ],
      "metadata": {
        "id": "GYjSH_0oeufm"
      },
      "execution_count": 17,
      "outputs": []
    },
    {
      "cell_type": "code",
      "source": [
        "print(table)"
      ],
      "metadata": {
        "colab": {
          "base_uri": "https://localhost:8080/"
        },
        "id": "lrJeeX_2jzN-",
        "outputId": "9f19d0a3-e3f0-4976-8831-0fcf0b8121d4"
      },
      "execution_count": 18,
      "outputs": [
        {
          "output_type": "stream",
          "name": "stdout",
          "text": [
            "<docx.table.Table object at 0x7efc67078e80>\n"
          ]
        }
      ]
    },
    {
      "cell_type": "code",
      "source": [
        "table.rows"
      ],
      "metadata": {
        "colab": {
          "base_uri": "https://localhost:8080/"
        },
        "id": "cmMP05PqkJV_",
        "outputId": "8eee46c2-ae62-4557-8c72-9bbac7ed66c2"
      },
      "execution_count": 19,
      "outputs": [
        {
          "output_type": "execute_result",
          "data": {
            "text/plain": [
              "<docx.table._Rows at 0x7efc66d1dfd0>"
            ]
          },
          "metadata": {},
          "execution_count": 19
        }
      ]
    },
    {
      "cell_type": "code",
      "source": [
        "for i, row in enumerate(table.rows):\n",
        "    for j, cell in enumerate(row.cells):\n",
        "        cell.text = str(table[i][j])"
      ],
      "metadata": {
        "colab": {
          "base_uri": "https://localhost:8080/",
          "height": 201
        },
        "id": "9wZetB-tkNJe",
        "outputId": "3b9aeea8-ad9c-4914-8781-2581227aa18f"
      },
      "execution_count": 23,
      "outputs": [
        {
          "output_type": "error",
          "ename": "TypeError",
          "evalue": "ignored",
          "traceback": [
            "\u001b[0;31m---------------------------------------------------------------------------\u001b[0m",
            "\u001b[0;31mTypeError\u001b[0m                                 Traceback (most recent call last)",
            "\u001b[0;32m<ipython-input-23-8cbe571290d5>\u001b[0m in \u001b[0;36m<module>\u001b[0;34m\u001b[0m\n\u001b[1;32m      1\u001b[0m \u001b[0;32mfor\u001b[0m \u001b[0mi\u001b[0m\u001b[0;34m,\u001b[0m \u001b[0mrow\u001b[0m \u001b[0;32min\u001b[0m \u001b[0menumerate\u001b[0m\u001b[0;34m(\u001b[0m\u001b[0mtable\u001b[0m\u001b[0;34m.\u001b[0m\u001b[0mrows\u001b[0m\u001b[0;34m)\u001b[0m\u001b[0;34m:\u001b[0m\u001b[0;34m\u001b[0m\u001b[0;34m\u001b[0m\u001b[0m\n\u001b[1;32m      2\u001b[0m     \u001b[0;32mfor\u001b[0m \u001b[0mj\u001b[0m\u001b[0;34m,\u001b[0m \u001b[0mcell\u001b[0m \u001b[0;32min\u001b[0m \u001b[0menumerate\u001b[0m\u001b[0;34m(\u001b[0m\u001b[0mrow\u001b[0m\u001b[0;34m.\u001b[0m\u001b[0mcells\u001b[0m\u001b[0;34m)\u001b[0m\u001b[0;34m:\u001b[0m\u001b[0;34m\u001b[0m\u001b[0;34m\u001b[0m\u001b[0m\n\u001b[0;32m----> 3\u001b[0;31m         \u001b[0mcell\u001b[0m\u001b[0;34m.\u001b[0m\u001b[0mtext\u001b[0m \u001b[0;34m=\u001b[0m \u001b[0mstr\u001b[0m\u001b[0;34m(\u001b[0m\u001b[0mtable\u001b[0m\u001b[0;34m[\u001b[0m\u001b[0mi\u001b[0m\u001b[0;34m]\u001b[0m\u001b[0;34m[\u001b[0m\u001b[0mj\u001b[0m\u001b[0;34m]\u001b[0m\u001b[0;34m)\u001b[0m\u001b[0;34m\u001b[0m\u001b[0;34m\u001b[0m\u001b[0m\n\u001b[0m",
            "\u001b[0;31mTypeError\u001b[0m: 'Table' object is not subscriptable"
          ]
        }
      ]
    },
    {
      "cell_type": "code",
      "source": [],
      "metadata": {
        "id": "h9f3AHjIkT1P"
      },
      "execution_count": null,
      "outputs": []
    }
  ]
}